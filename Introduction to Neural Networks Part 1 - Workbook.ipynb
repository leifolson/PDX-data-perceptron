{
 "cells": [
  {
   "cell_type": "markdown",
   "metadata": {
    "collapsed": true
   },
   "source": [
    "# Introduction to Neural Networks\n",
    "## Part 1: Perceptrons\n"
   ]
  },
  {
   "cell_type": "markdown",
   "metadata": {},
   "source": [
    "  "
   ]
  },
  {
   "cell_type": "markdown",
   "metadata": {},
   "source": [
    "### Why Neural Networks? Why Machine Learning?"
   ]
  },
  {
   "cell_type": "markdown",
   "metadata": {},
   "source": [
    "Recent developments in neural networks have \"created\" these art works.\n",
    "![A Neural Algorithm of Artistic Style, Leon A. Gatys, Alexander S. Ecker, Matthias Bethge](images/artistic_neural_networks.jpg)\n",
    "taken from a paper on [A Neural Algorithm of Artistic Style by Leon A. Gatys, Alexander S. Ecker, Matthias Bethge](http://arxiv.org/pdf/1508.06576.pdf)"
   ]
  },
  {
   "cell_type": "markdown",
   "metadata": {
    "collapsed": true
   },
   "source": [
    "## Consider a single neuron cell"
   ]
  },
  {
   "cell_type": "markdown",
   "metadata": {},
   "source": [
    "![A Neuron](https://upload.wikimedia.org/wikipedia/commons/b/bd/Neuron.jpg)\n",
    "Source: [Wikipedia](https://upload.wikimedia.org/wikipedia/commons/b/bd/Neuron.jpg)\n",
    "\n",
    "If the stimulus to a neuron cell is above a \"threshold\", the cell is activated and will release a tiny electrical impulse to the next cells which it is connected with."
   ]
  },
  {
   "cell_type": "markdown",
   "metadata": {},
   "source": [
    "### How could this be represented mathematically?\n",
    "![Structure of a single perceptron](https://upload.wikimedia.org/wikipedia/commons/8/8c/Perceptron_moj.png)\n",
    "Source: [Wikipedia](https://upload.wikimedia.org/wikipedia/commons/8/8c/Perceptron_moj.png)\n",
    "\n",
    "$$ f(x) = \\begin{cases}1 & \\text{if }\\vec{x} \\cdot \\vec{w} + w_0 > 0\\\\0 & \\text{otherwise}\\end{cases} $$"
   ]
  },
  {
   "cell_type": "markdown",
   "metadata": {},
   "source": [
    "  "
   ]
  },
  {
   "cell_type": "markdown",
   "metadata": {},
   "source": [
    "### Mathematical Representation of a Single Layer Perceptron\n",
    "\n",
    "$$ w = \\begin{bmatrix}\n",
    "         w_1 \\\\\n",
    "         \\vdots \\\\\n",
    "         w_n\n",
    "        \\end{bmatrix} \n",
    "   x = \\begin{bmatrix}\n",
    "         x_1 \\\\\n",
    "         \\vdots \\\\\n",
    "         x_n\n",
    "        \\end{bmatrix}\n",
    "$$\n",
    "\n",
    "#### Linear Activation Function\n",
    "\n",
    "\\begin{equation*}\n",
    "z = x^T * w + w_0\n",
    "\\end{equation*}\n",
    "\n",
    "\\begin{equation*}\n",
    "\\phi(z) = \\begin{cases}\n",
    "1\\ if\\ z > 0 \\\\\n",
    "0\\ otherwise\n",
    "\\end{cases}\n",
    "\\end{equation*}\n",
    "\n",
    "\n",
    "#### How does the single layer perceptron learn?\n",
    "\n",
    "1. Initialize the weights with zero values\n",
    "2. For each training sample, compute the predicted $y$ and update the weights accordingly\n",
    "\n",
    "\\begin{equation*} \n",
    "\\Delta w = \\eta(y_{training set}^{(i)} - y_{predicted}^{(i)}) x^{(i)} \\\\\n",
    "w = w + \\Delta w \\\\\n",
    "\\end{equation*}\n"
   ]
  },
  {
   "cell_type": "code",
   "execution_count": 24,
   "metadata": {
    "collapsed": false
   },
   "outputs": [],
   "source": [
    "# install all required packages with 'pip install -r requirements.txt'\n",
    "%matplotlib inline\n",
    "import matplotlib.pyplot as plt\n",
    "import numpy"
   ]
  },
  {
   "cell_type": "code",
   "execution_count": 71,
   "metadata": {
    "collapsed": false
   },
   "outputs": [],
   "source": [
    "class Perceptron(object):\n",
    "    \"\"\"\n",
    "    \n",
    "    Perceptron classifier.\n",
    "\n",
    "    Adopted from Python Machine Learning by Sebastian Raschka (see below)\n",
    "\n",
    "    \"\"\"\n",
    "    def __init__(self, learning_rate=0.01, epoches=10):\n",
    "        self.learning_rate = learning_rate\n",
    "        self.epoches = epoches\n",
    "        \n",
    "    def fit(self, X, y):\n",
    "        \"\"\"This method will fit the perceptron activation function to match the training set\"\"\"\n",
    "        \n",
    "        # set self.weights to a zero value\n",
    "        # check out a numpy method, get the dimension of the input vector X \n",
    "        # with `X.shape[1]`\n",
    "        \n",
    "        ### TASK: create an numpy zero array with with the dimension x + 1\n",
    "        self.weights = numpy.zeros(1 + X.shape[1])\n",
    "        self.errors = []\n",
    "\n",
    "        for _ in range(self.epoches):\n",
    "            errors = 0\n",
    "            for xi, expected_y in zip(X, y):\n",
    "                ### TASK: implement the update rule (expected - predicted). \n",
    "                ### Don't forget to apply the learning rate\n",
    "                update = self.learning_rate * (expected_y - self.predict(xi))\n",
    "                self.weights[1:] += xi * update\n",
    "                self.weights[0] += update\n",
    "                errors += int(update != 0.0)\n",
    "            self.errors.append(errors)\n",
    "        return self    \n",
    "    \n",
    "    def net_input(self, X):\n",
    "        \"\"\"This method will calculate the dot product of the input vector x multiplied with the vector of the weights.\n",
    "           Don't forget the bias w_0\n",
    "        \"\"\"\n",
    "        \n",
    "        ### TASK: Calculate this sum of the multipled vectors x and w. You can either do this by using the numpy.dot\n",
    "        ### method or by using a for loop (the numpy.dot method will be faster but less intuitive)\n",
    "        _sum = numpy.dot(X, self.weights[1:]) + self.weights[0]\n",
    "        return _sum\n",
    "\n",
    "    def predict(self, X):\n",
    "        \"\"\"Return class label after unit step\"\"\"\n",
    "        ### TASK: Take a result from self.net_input(X) and classify it. \n",
    "        ### Return 1 if the result is greater than 0, other return 0\n",
    "        result = self.net_input(X)\n",
    "        y_predicted = numpy.where(result > 0, 1, 0)\n",
    "            \n",
    "        return y_predicted\n",
    "      \n",
    "    def feature_scaling(self, X):\n",
    "        \"\"\" Scales features between 0 and 1 \"\"\"\n",
    "        # perform feature scaling on each column\n",
    "        for col in list(X.columns.values):\n",
    "            X[col] = X[col] / X[col].max()\n",
    "        return X\n",
    "        \n",
    "    def plot(self, X, y, \n",
    "             cols=[0, 1], \n",
    "             axis_labels=['x', 'y'], \n",
    "             _max_samples=100,\n",
    "             save=False\n",
    "            ):\n",
    "        max_samples = _max_samples if _max_samples < len(y) else len(y)\n",
    "        X = X[0:max_samples, cols]\n",
    "        for i in range(0, max_samples):\n",
    "            if int(y[i]) == 1:\n",
    "                color='red'\n",
    "                marker='o'\n",
    "            else:\n",
    "                color='blue'\n",
    "                marker='x'\n",
    "            plt.scatter(\n",
    "                X[i][cols[0]], X[i][cols[1]],\n",
    "                color=color, marker=marker, )\n",
    "\n",
    "        plt.xlabel(axis_labels[0])\n",
    "        plt.ylabel(axis_labels[1])\n",
    "        plt.show()\n",
    " \n",
    "    def plot_errors(self):\n",
    "        plt.plot(range(1, len(p.errors) + 1), p.errors, marker='o')\n",
    "        plt.xlabel('Epochs')\n",
    "        plt.ylabel('Number of misclassifications')\n",
    "        plt.show()\n",
    "\n",
    "        \n",
    "    def cross_val_score(self, X, y):\n",
    "        \"\"\"Returns the CV matrix for a model and its expected results\"\"\"\n",
    "        # set variables\n",
    "        _pred_y = self.predict(X)\n",
    "        cov_results = numpy.zeros((2,2))\n",
    "        # Check for positives and negatives\n",
    "        positions = (\n",
    "            list(numpy.where(y != 1))[0],\n",
    "            list(numpy.where(y == 1))[0]\n",
    "        )\n",
    "        for res in [0, 1]:\n",
    "            # get total number of pos/neg samples\n",
    "            total = len(positions[res])\n",
    "            # loop through sample positions\n",
    "            for pos in list(positions[res]):\n",
    "                # check postives\n",
    "                if y[pos] == 1:\n",
    "                    if _pred_y[pos] == 1:\n",
    "                        cov_results[1, 1] += 1\n",
    "                    else:\n",
    "                        cov_results[1, 0] += 1\n",
    "                # check not positives (could be -1 or 0)\n",
    "                else:\n",
    "                    if _pred_y[pos] != 1:\n",
    "                        cov_results[0, 0] += 1\n",
    "                    else:\n",
    "                        cov_results[0, 1] += 1\n",
    "            # divide results by the number of samples in the category (positive/negative)\n",
    "            cov_results[res, :] /= total\n",
    "        return cov_results"
   ]
  },
  {
   "cell_type": "markdown",
   "metadata": {},
   "source": [
    "### OR Examples, solved by a single Perceptron"
   ]
  },
  {
   "cell_type": "code",
   "execution_count": 72,
   "metadata": {
    "collapsed": false
   },
   "outputs": [
    {
     "name": "stdout",
     "output_type": "stream",
     "text": [
      "('Prediction: ', array([0, 1, 1, 1]))\n",
      "Cross validation: \n",
      "[[ 1.  0.]\n",
      " [ 0.  1.]]\n"
     ]
    },
    {
     "data": {
      "image/png": "[encoded data removed]",
      "text/plain": [
       "<matplotlib.figure.Figure at 0x1063bfc10>"
      ]
     },
     "metadata": {},
     "output_type": "display_data"
    },
    {
     "data": {
      "image/png": "[encoded data removed]",
      "text/plain": [
       "<matplotlib.figure.Figure at 0x106582b90>"
      ]
     },
     "metadata": {},
     "output_type": "display_data"
    }
   ],
   "source": [
    "# OR test\n",
    "\n",
    "data_set = numpy.array([\n",
    "    [0, 0, 0],\n",
    "    [0, 1, 1],\n",
    "    [1, 0, 1],\n",
    "    [1, 1, 1]\n",
    "])\n",
    "\n",
    "p = Perceptron(0.01, 10)\n",
    "p.fit(data_set[:, :2], data_set[:, 2:])\n",
    "print ('Prediction: ', p.predict(data_set[:, :2]))\n",
    "print ('Cross validation: ')\n",
    "print p.cross_val_score(data_set[:, :2], data_set[:, 2:])\n",
    "p.plot(data_set[:, :2], data_set[:, 2])\n",
    "p.predict(data_set[:, :2])\n",
    "p.plot_errors()\n"
   ]
  },
  {
   "cell_type": "markdown",
   "metadata": {},
   "source": [
    "  "
   ]
  },
  {
   "cell_type": "markdown",
   "metadata": {},
   "source": [
    "### Iris dataset\n",
    "Determine the type of Irises (in this case, we classify between setosa and versicolor). The classic data originates from the [UCI dataset server](http://archive.ics.uci.edu/ml/) and is one of the most downloaded sets so far. An overview of the different input variables can be found [here](https://en.wikipedia.org/wiki/Iris_flower_data_set#/media/File:Iris_dataset_scatterplot.svg).\n",
    "For this tutorial, let's classify the Irises by the sepal and petal length."
   ]
  },
  {
   "cell_type": "code",
   "execution_count": 73,
   "metadata": {
    "collapsed": false
   },
   "outputs": [
    {
     "data": {
      "text/html": [
       "<div>\n",
       "<table border=\"1\" class=\"dataframe\">\n",
       "  <thead>\n",
       "    <tr style=\"text-align: right;\">\n",
       "      <th></th>\n",
       "      <th>0</th>\n",
       "      <th>1</th>\n",
       "      <th>2</th>\n",
       "      <th>3</th>\n",
       "      <th>4</th>\n",
       "    </tr>\n",
       "  </thead>\n",
       "  <tbody>\n",
       "    <tr>\n",
       "      <th>0</th>\n",
       "      <td>5.1</td>\n",
       "      <td>3.5</td>\n",
       "      <td>1.4</td>\n",
       "      <td>0.2</td>\n",
       "      <td>Iris-setosa</td>\n",
       "    </tr>\n",
       "    <tr>\n",
       "      <th>1</th>\n",
       "      <td>4.9</td>\n",
       "      <td>3.0</td>\n",
       "      <td>1.4</td>\n",
       "      <td>0.2</td>\n",
       "      <td>Iris-setosa</td>\n",
       "    </tr>\n",
       "    <tr>\n",
       "      <th>2</th>\n",
       "      <td>4.7</td>\n",
       "      <td>3.2</td>\n",
       "      <td>1.3</td>\n",
       "      <td>0.2</td>\n",
       "      <td>Iris-setosa</td>\n",
       "    </tr>\n",
       "    <tr>\n",
       "      <th>3</th>\n",
       "      <td>4.6</td>\n",
       "      <td>3.1</td>\n",
       "      <td>1.5</td>\n",
       "      <td>0.2</td>\n",
       "      <td>Iris-setosa</td>\n",
       "    </tr>\n",
       "    <tr>\n",
       "      <th>4</th>\n",
       "      <td>5.0</td>\n",
       "      <td>3.6</td>\n",
       "      <td>1.4</td>\n",
       "      <td>0.2</td>\n",
       "      <td>Iris-setosa</td>\n",
       "    </tr>\n",
       "  </tbody>\n",
       "</table>\n",
       "</div>"
      ],
      "text/plain": [
       "     0    1    2    3            4\n",
       "0  5.1  3.5  1.4  0.2  Iris-setosa\n",
       "1  4.9  3.0  1.4  0.2  Iris-setosa\n",
       "2  4.7  3.2  1.3  0.2  Iris-setosa\n",
       "3  4.6  3.1  1.5  0.2  Iris-setosa\n",
       "4  5.0  3.6  1.4  0.2  Iris-setosa"
      ]
     },
     "execution_count": 73,
     "metadata": {},
     "output_type": "execute_result"
    }
   ],
   "source": [
    "import pandas as pd\n",
    "\n",
    "df = pd.read_csv('https://archive.ics.uci.edu/ml/'\n",
    "        'machine-learning-databases/iris/iris.data', header=None)\n",
    "df.head()\n"
   ]
  },
  {
   "cell_type": "code",
   "execution_count": 74,
   "metadata": {
    "collapsed": false
   },
   "outputs": [],
   "source": [
    "import numpy\n",
    "\n",
    "# select setosa and versicolor\n",
    "y = df.iloc[0:100, 4].values\n",
    "y = numpy.where(y == 'Iris-setosa', 0, 1)\n",
    "\n",
    "# extract sepal length and petal length\n",
    "X = df.iloc[0:100, [0, 2]].values"
   ]
  },
  {
   "cell_type": "code",
   "execution_count": 17,
   "metadata": {
    "collapsed": false
   },
   "outputs": [
    {
     "data": {
      "image/png": "[encoded data removed]",
      "text/plain": [
       "<matplotlib.figure.Figure at 0x105e10d50>"
      ]
     },
     "metadata": {},
     "output_type": "display_data"
    },
    {
     "data": {
      "image/png": "[encoded data removed]",
      "text/plain": [
       "<matplotlib.figure.Figure at 0x105e10290>"
      ]
     },
     "metadata": {},
     "output_type": "display_data"
    }
   ],
   "source": [
    "p = Perceptron(learning_rate=0.1, epoches=10)\n",
    "\n",
    "p.fit(X, y)\n",
    "p.plot(X, y)\n",
    "p.plot_errors()"
   ]
  },
  {
   "cell_type": "code",
   "execution_count": 18,
   "metadata": {
    "collapsed": false
   },
   "outputs": [
    {
     "data": {
      "text/plain": [
       "array([[ 1.,  0.],\n",
       "       [ 0.,  1.]])"
      ]
     },
     "execution_count": 18,
     "metadata": {},
     "output_type": "execute_result"
    }
   ],
   "source": [
    "p.cross_val_score(X, y)"
   ]
  },
  {
   "cell_type": "code",
   "execution_count": 19,
   "metadata": {
    "collapsed": false
   },
   "outputs": [
    {
     "name": "stdout",
     "output_type": "stream",
     "text": [
      "[0 0 0 0 0 0 0 0 0 0 0 0 0 0 0 0 0 0 0 0 0 0 0 0 0 0 0 0 0 0 0 0 0 0 0 0 0\n",
      " 0 0 0 0 0 0 0 0 0 0 0 0 0 1 1 1 1 1 1 1 1 1 1 1 1 1 1 1 1 1 1 1 1 1 1 1 1\n",
      " 1 1 1 1 1 1 1 1 1 1 1 1 1 1 1 1 1 1 1 1 1 1 1 1 1 1]\n",
      "[0 0 0 0 0 0 0 0 0 0 0 0 0 0 0 0 0 0 0 0 0 0 0 0 0 0 0 0 0 0 0 0 0 0 0 0 0\n",
      " 0 0 0 0 0 0 0 0 0 0 0 0 0 1 1 1 1 1 1 1 1 1 1 1 1 1 1 1 1 1 1 1 1 1 1 1 1\n",
      " 1 1 1 1 1 1 1 1 1 1 1 1 1 1 1 1 1 1 1 1 1 1 1 1 1 1]\n"
     ]
    }
   ],
   "source": [
    "print y\n",
    "print p.predict(X)"
   ]
  },
  {
   "cell_type": "markdown",
   "metadata": {},
   "source": [
    "   "
   ]
  },
  {
   "cell_type": "markdown",
   "metadata": {},
   "source": [
    "  \n",
    "  "
   ]
  },
  {
   "cell_type": "markdown",
   "metadata": {},
   "source": [
    "### Credit card fraud dectection"
   ]
  },
  {
   "cell_type": "code",
   "execution_count": 20,
   "metadata": {
    "collapsed": false
   },
   "outputs": [],
   "source": [
    "# https://onlinecourses.science.psu.edu/stat857/node/215\n",
    "import pandas as pd\n",
    "\n",
    "training_set = pd.read_csv('german_credit_dataset/Training50.csv')\n",
    "test_set = pd.read_csv('german_credit_dataset/Test50.csv')"
   ]
  },
  {
   "cell_type": "code",
   "execution_count": 21,
   "metadata": {
    "collapsed": false
   },
   "outputs": [
    {
     "name": "stdout",
     "output_type": "stream",
     "text": [
      "Index([u'Creditability', u'Account.Balance', u'Duration.of.Credit..month.',\n",
      "       u'Payment.Status.of.Previous.Credit', u'Purpose', u'Credit.Amount',\n",
      "       u'Value.Savings.Stocks', u'Length.of.current.employment',\n",
      "       u'Instalment.per.cent', u'Sex...Marital.Status', u'Guarantors',\n",
      "       u'Duration.in.Current.address', u'Most.valuable.available.asset',\n",
      "       u'Age..years.', u'Concurrent.Credits', u'Type.of.apartment',\n",
      "       u'No.of.Credits.at.this.Bank', u'Occupation', u'No.of.dependents',\n",
      "       u'Telephone', u'Foreign.Worker'],\n",
      "      dtype='object')\n"
     ]
    },
    {
     "data": {
      "text/html": [
       "<div>\n",
       "<table border=\"1\" class=\"dataframe\">\n",
       "  <thead>\n",
       "    <tr style=\"text-align: right;\">\n",
       "      <th></th>\n",
       "      <th>Creditability</th>\n",
       "      <th>Account.Balance</th>\n",
       "      <th>Duration.of.Credit..month.</th>\n",
       "      <th>Payment.Status.of.Previous.Credit</th>\n",
       "      <th>Purpose</th>\n",
       "      <th>Credit.Amount</th>\n",
       "      <th>Value.Savings.Stocks</th>\n",
       "      <th>Length.of.current.employment</th>\n",
       "      <th>Instalment.per.cent</th>\n",
       "      <th>Sex...Marital.Status</th>\n",
       "      <th>...</th>\n",
       "      <th>Duration.in.Current.address</th>\n",
       "      <th>Most.valuable.available.asset</th>\n",
       "      <th>Age..years.</th>\n",
       "      <th>Concurrent.Credits</th>\n",
       "      <th>Type.of.apartment</th>\n",
       "      <th>No.of.Credits.at.this.Bank</th>\n",
       "      <th>Occupation</th>\n",
       "      <th>No.of.dependents</th>\n",
       "      <th>Telephone</th>\n",
       "      <th>Foreign.Worker</th>\n",
       "    </tr>\n",
       "  </thead>\n",
       "  <tbody>\n",
       "    <tr>\n",
       "      <th>0</th>\n",
       "      <td>1</td>\n",
       "      <td>3</td>\n",
       "      <td>6</td>\n",
       "      <td>2</td>\n",
       "      <td>3</td>\n",
       "      <td>2108</td>\n",
       "      <td>1</td>\n",
       "      <td>3</td>\n",
       "      <td>2</td>\n",
       "      <td>3</td>\n",
       "      <td>...</td>\n",
       "      <td>2</td>\n",
       "      <td>1</td>\n",
       "      <td>29</td>\n",
       "      <td>2</td>\n",
       "      <td>1</td>\n",
       "      <td>1</td>\n",
       "      <td>1</td>\n",
       "      <td>1</td>\n",
       "      <td>1</td>\n",
       "      <td>1</td>\n",
       "    </tr>\n",
       "    <tr>\n",
       "      <th>1</th>\n",
       "      <td>0</td>\n",
       "      <td>1</td>\n",
       "      <td>15</td>\n",
       "      <td>1</td>\n",
       "      <td>4</td>\n",
       "      <td>950</td>\n",
       "      <td>1</td>\n",
       "      <td>4</td>\n",
       "      <td>4</td>\n",
       "      <td>2</td>\n",
       "      <td>...</td>\n",
       "      <td>3</td>\n",
       "      <td>3</td>\n",
       "      <td>33</td>\n",
       "      <td>2</td>\n",
       "      <td>1</td>\n",
       "      <td>2</td>\n",
       "      <td>1</td>\n",
       "      <td>2</td>\n",
       "      <td>1</td>\n",
       "      <td>1</td>\n",
       "    </tr>\n",
       "    <tr>\n",
       "      <th>2</th>\n",
       "      <td>0</td>\n",
       "      <td>1</td>\n",
       "      <td>42</td>\n",
       "      <td>2</td>\n",
       "      <td>3</td>\n",
       "      <td>7174</td>\n",
       "      <td>4</td>\n",
       "      <td>3</td>\n",
       "      <td>4</td>\n",
       "      <td>1</td>\n",
       "      <td>...</td>\n",
       "      <td>3</td>\n",
       "      <td>3</td>\n",
       "      <td>30</td>\n",
       "      <td>2</td>\n",
       "      <td>2</td>\n",
       "      <td>1</td>\n",
       "      <td>1</td>\n",
       "      <td>1</td>\n",
       "      <td>2</td>\n",
       "      <td>1</td>\n",
       "    </tr>\n",
       "    <tr>\n",
       "      <th>3</th>\n",
       "      <td>0</td>\n",
       "      <td>3</td>\n",
       "      <td>36</td>\n",
       "      <td>3</td>\n",
       "      <td>4</td>\n",
       "      <td>7980</td>\n",
       "      <td>4</td>\n",
       "      <td>1</td>\n",
       "      <td>4</td>\n",
       "      <td>2</td>\n",
       "      <td>...</td>\n",
       "      <td>4</td>\n",
       "      <td>3</td>\n",
       "      <td>27</td>\n",
       "      <td>2</td>\n",
       "      <td>1</td>\n",
       "      <td>2</td>\n",
       "      <td>1</td>\n",
       "      <td>1</td>\n",
       "      <td>2</td>\n",
       "      <td>1</td>\n",
       "    </tr>\n",
       "    <tr>\n",
       "      <th>4</th>\n",
       "      <td>1</td>\n",
       "      <td>3</td>\n",
       "      <td>24</td>\n",
       "      <td>3</td>\n",
       "      <td>2</td>\n",
       "      <td>2028</td>\n",
       "      <td>1</td>\n",
       "      <td>3</td>\n",
       "      <td>2</td>\n",
       "      <td>2</td>\n",
       "      <td>...</td>\n",
       "      <td>2</td>\n",
       "      <td>2</td>\n",
       "      <td>30</td>\n",
       "      <td>2</td>\n",
       "      <td>2</td>\n",
       "      <td>2</td>\n",
       "      <td>1</td>\n",
       "      <td>1</td>\n",
       "      <td>1</td>\n",
       "      <td>1</td>\n",
       "    </tr>\n",
       "  </tbody>\n",
       "</table>\n",
       "<p>5 rows × 21 columns</p>\n",
       "</div>"
      ],
      "text/plain": [
       "   Creditability  Account.Balance  Duration.of.Credit..month.  \\\n",
       "0              1                3                           6   \n",
       "1              0                1                          15   \n",
       "2              0                1                          42   \n",
       "3              0                3                          36   \n",
       "4              1                3                          24   \n",
       "\n",
       "   Payment.Status.of.Previous.Credit  Purpose  Credit.Amount  \\\n",
       "0                                  2        3           2108   \n",
       "1                                  1        4            950   \n",
       "2                                  2        3           7174   \n",
       "3                                  3        4           7980   \n",
       "4                                  3        2           2028   \n",
       "\n",
       "   Value.Savings.Stocks  Length.of.current.employment  Instalment.per.cent  \\\n",
       "0                     1                             3                    2   \n",
       "1                     1                             4                    4   \n",
       "2                     4                             3                    4   \n",
       "3                     4                             1                    4   \n",
       "4                     1                             3                    2   \n",
       "\n",
       "   Sex...Marital.Status       ...        Duration.in.Current.address  \\\n",
       "0                     3       ...                                  2   \n",
       "1                     2       ...                                  3   \n",
       "2                     1       ...                                  3   \n",
       "3                     2       ...                                  4   \n",
       "4                     2       ...                                  2   \n",
       "\n",
       "   Most.valuable.available.asset  Age..years.  Concurrent.Credits  \\\n",
       "0                              1           29                   2   \n",
       "1                              3           33                   2   \n",
       "2                              3           30                   2   \n",
       "3                              3           27                   2   \n",
       "4                              2           30                   2   \n",
       "\n",
       "   Type.of.apartment  No.of.Credits.at.this.Bank  Occupation  \\\n",
       "0                  1                           1           1   \n",
       "1                  1                           2           1   \n",
       "2                  2                           1           1   \n",
       "3                  1                           2           1   \n",
       "4                  2                           2           1   \n",
       "\n",
       "   No.of.dependents  Telephone  Foreign.Worker  \n",
       "0                 1          1               1  \n",
       "1                 2          1               1  \n",
       "2                 1          2               1  \n",
       "3                 1          2               1  \n",
       "4                 1          1               1  \n",
       "\n",
       "[5 rows x 21 columns]"
      ]
     },
     "execution_count": 21,
     "metadata": {},
     "output_type": "execute_result"
    }
   ],
   "source": [
    "# drop id column from training/test set\n",
    "training_set.drop('ID', axis=1, inplace=True)\n",
    "\n",
    "# inspect dataset\n",
    "print training_set.columns\n",
    "# training_set.head()\n",
    "training_set.head()  # training_set.tail()"
   ]
  },
  {
   "cell_type": "code",
   "execution_count": 22,
   "metadata": {
    "collapsed": false,
    "scrolled": true
   },
   "outputs": [
    {
     "data": {
      "text/html": [
       "<div>\n",
       "<table border=\"1\" class=\"dataframe\">\n",
       "  <thead>\n",
       "    <tr style=\"text-align: right;\">\n",
       "      <th></th>\n",
       "      <th>Creditability</th>\n",
       "      <th>Account.Balance</th>\n",
       "      <th>Duration.of.Credit..month.</th>\n",
       "      <th>Payment.Status.of.Previous.Credit</th>\n",
       "      <th>Purpose</th>\n",
       "      <th>Credit.Amount</th>\n",
       "      <th>Value.Savings.Stocks</th>\n",
       "      <th>Length.of.current.employment</th>\n",
       "      <th>Instalment.per.cent</th>\n",
       "      <th>Sex...Marital.Status</th>\n",
       "      <th>...</th>\n",
       "      <th>Duration.in.Current.address</th>\n",
       "      <th>Most.valuable.available.asset</th>\n",
       "      <th>Age..years.</th>\n",
       "      <th>Concurrent.Credits</th>\n",
       "      <th>Type.of.apartment</th>\n",
       "      <th>No.of.Credits.at.this.Bank</th>\n",
       "      <th>Occupation</th>\n",
       "      <th>No.of.dependents</th>\n",
       "      <th>Telephone</th>\n",
       "      <th>Foreign.Worker</th>\n",
       "    </tr>\n",
       "  </thead>\n",
       "  <tbody>\n",
       "    <tr>\n",
       "      <th>0</th>\n",
       "      <td>1</td>\n",
       "      <td>1.000000</td>\n",
       "      <td>0.10</td>\n",
       "      <td>0.666667</td>\n",
       "      <td>0.75</td>\n",
       "      <td>0.114416</td>\n",
       "      <td>0.25</td>\n",
       "      <td>0.75</td>\n",
       "      <td>0.5</td>\n",
       "      <td>1.000000</td>\n",
       "      <td>...</td>\n",
       "      <td>0.50</td>\n",
       "      <td>0.25</td>\n",
       "      <td>0.386667</td>\n",
       "      <td>1</td>\n",
       "      <td>0.333333</td>\n",
       "      <td>0.5</td>\n",
       "      <td>1</td>\n",
       "      <td>0.5</td>\n",
       "      <td>0.5</td>\n",
       "      <td>0.5</td>\n",
       "    </tr>\n",
       "    <tr>\n",
       "      <th>1</th>\n",
       "      <td>0</td>\n",
       "      <td>0.333333</td>\n",
       "      <td>0.25</td>\n",
       "      <td>0.333333</td>\n",
       "      <td>1.00</td>\n",
       "      <td>0.051563</td>\n",
       "      <td>0.25</td>\n",
       "      <td>1.00</td>\n",
       "      <td>1.0</td>\n",
       "      <td>0.666667</td>\n",
       "      <td>...</td>\n",
       "      <td>0.75</td>\n",
       "      <td>0.75</td>\n",
       "      <td>0.440000</td>\n",
       "      <td>1</td>\n",
       "      <td>0.333333</td>\n",
       "      <td>1.0</td>\n",
       "      <td>1</td>\n",
       "      <td>1.0</td>\n",
       "      <td>0.5</td>\n",
       "      <td>0.5</td>\n",
       "    </tr>\n",
       "    <tr>\n",
       "      <th>2</th>\n",
       "      <td>0</td>\n",
       "      <td>0.333333</td>\n",
       "      <td>0.70</td>\n",
       "      <td>0.666667</td>\n",
       "      <td>0.75</td>\n",
       "      <td>0.389383</td>\n",
       "      <td>1.00</td>\n",
       "      <td>0.75</td>\n",
       "      <td>1.0</td>\n",
       "      <td>0.333333</td>\n",
       "      <td>...</td>\n",
       "      <td>0.75</td>\n",
       "      <td>0.75</td>\n",
       "      <td>0.400000</td>\n",
       "      <td>1</td>\n",
       "      <td>0.666667</td>\n",
       "      <td>0.5</td>\n",
       "      <td>1</td>\n",
       "      <td>0.5</td>\n",
       "      <td>1.0</td>\n",
       "      <td>0.5</td>\n",
       "    </tr>\n",
       "    <tr>\n",
       "      <th>3</th>\n",
       "      <td>0</td>\n",
       "      <td>1.000000</td>\n",
       "      <td>0.60</td>\n",
       "      <td>1.000000</td>\n",
       "      <td>1.00</td>\n",
       "      <td>0.433131</td>\n",
       "      <td>1.00</td>\n",
       "      <td>0.25</td>\n",
       "      <td>1.0</td>\n",
       "      <td>0.666667</td>\n",
       "      <td>...</td>\n",
       "      <td>1.00</td>\n",
       "      <td>0.75</td>\n",
       "      <td>0.360000</td>\n",
       "      <td>1</td>\n",
       "      <td>0.333333</td>\n",
       "      <td>1.0</td>\n",
       "      <td>1</td>\n",
       "      <td>0.5</td>\n",
       "      <td>1.0</td>\n",
       "      <td>0.5</td>\n",
       "    </tr>\n",
       "    <tr>\n",
       "      <th>4</th>\n",
       "      <td>1</td>\n",
       "      <td>1.000000</td>\n",
       "      <td>0.40</td>\n",
       "      <td>1.000000</td>\n",
       "      <td>0.50</td>\n",
       "      <td>0.110074</td>\n",
       "      <td>0.25</td>\n",
       "      <td>0.75</td>\n",
       "      <td>0.5</td>\n",
       "      <td>0.666667</td>\n",
       "      <td>...</td>\n",
       "      <td>0.50</td>\n",
       "      <td>0.50</td>\n",
       "      <td>0.400000</td>\n",
       "      <td>1</td>\n",
       "      <td>0.666667</td>\n",
       "      <td>1.0</td>\n",
       "      <td>1</td>\n",
       "      <td>0.5</td>\n",
       "      <td>0.5</td>\n",
       "      <td>0.5</td>\n",
       "    </tr>\n",
       "  </tbody>\n",
       "</table>\n",
       "<p>5 rows × 21 columns</p>\n",
       "</div>"
      ],
      "text/plain": [
       "   Creditability  Account.Balance  Duration.of.Credit..month.  \\\n",
       "0              1         1.000000                        0.10   \n",
       "1              0         0.333333                        0.25   \n",
       "2              0         0.333333                        0.70   \n",
       "3              0         1.000000                        0.60   \n",
       "4              1         1.000000                        0.40   \n",
       "\n",
       "   Payment.Status.of.Previous.Credit  Purpose  Credit.Amount  \\\n",
       "0                           0.666667     0.75       0.114416   \n",
       "1                           0.333333     1.00       0.051563   \n",
       "2                           0.666667     0.75       0.389383   \n",
       "3                           1.000000     1.00       0.433131   \n",
       "4                           1.000000     0.50       0.110074   \n",
       "\n",
       "   Value.Savings.Stocks  Length.of.current.employment  Instalment.per.cent  \\\n",
       "0                  0.25                          0.75                  0.5   \n",
       "1                  0.25                          1.00                  1.0   \n",
       "2                  1.00                          0.75                  1.0   \n",
       "3                  1.00                          0.25                  1.0   \n",
       "4                  0.25                          0.75                  0.5   \n",
       "\n",
       "   Sex...Marital.Status       ...        Duration.in.Current.address  \\\n",
       "0              1.000000       ...                               0.50   \n",
       "1              0.666667       ...                               0.75   \n",
       "2              0.333333       ...                               0.75   \n",
       "3              0.666667       ...                               1.00   \n",
       "4              0.666667       ...                               0.50   \n",
       "\n",
       "   Most.valuable.available.asset  Age..years.  Concurrent.Credits  \\\n",
       "0                           0.25     0.386667                   1   \n",
       "1                           0.75     0.440000                   1   \n",
       "2                           0.75     0.400000                   1   \n",
       "3                           0.75     0.360000                   1   \n",
       "4                           0.50     0.400000                   1   \n",
       "\n",
       "   Type.of.apartment  No.of.Credits.at.this.Bank  Occupation  \\\n",
       "0           0.333333                         0.5           1   \n",
       "1           0.333333                         1.0           1   \n",
       "2           0.666667                         0.5           1   \n",
       "3           0.333333                         1.0           1   \n",
       "4           0.666667                         1.0           1   \n",
       "\n",
       "   No.of.dependents  Telephone  Foreign.Worker  \n",
       "0               0.5        0.5             0.5  \n",
       "1               1.0        0.5             0.5  \n",
       "2               0.5        1.0             0.5  \n",
       "3               0.5        1.0             0.5  \n",
       "4               0.5        0.5             0.5  \n",
       "\n",
       "[5 rows x 21 columns]"
      ]
     },
     "execution_count": 22,
     "metadata": {},
     "output_type": "execute_result"
    }
   ],
   "source": [
    "# perform feature scaling on each column\n",
    "for col in list(training_set.columns.values):\n",
    "    training_set[col] = training_set[col] / training_set[col].max()\n",
    "training_set.head()"
   ]
  },
  {
   "cell_type": "code",
   "execution_count": 23,
   "metadata": {
    "collapsed": false
   },
   "outputs": [],
   "source": [
    "# extract the creditability column as y vector\n",
    "y = training_set['Creditability'].values\n",
    "# drop the creditability column from the dataset\n",
    "training_set.drop('Creditability', axis=1, inplace=True)\n",
    "# remaining dataset is used as input matrix\n",
    "X = training_set.values"
   ]
  },
  {
   "cell_type": "code",
   "execution_count": 24,
   "metadata": {
    "collapsed": false
   },
   "outputs": [
    {
     "data": {
      "text/plain": [
       "array([1, 0, 0])"
      ]
     },
     "execution_count": 24,
     "metadata": {},
     "output_type": "execute_result"
    }
   ],
   "source": [
    "p = Perceptron(0.0001, 1000)\n",
    "p.fit(X, y)\n",
    "p.predict(X[:3])"
   ]
  },
  {
   "cell_type": "code",
   "execution_count": 25,
   "metadata": {
    "collapsed": false
   },
   "outputs": [
    {
     "name": "stdout",
     "output_type": "stream",
     "text": [
      "[[ 0.47552448  0.52447552]\n",
      " [ 0.10084034  0.89915966]]\n"
     ]
    },
    {
     "data": {
      "image/png": "[encoded data removed]",
      "text/plain": [
       "<matplotlib.figure.Figure at 0x10768b210>"
      ]
     },
     "metadata": {},
     "output_type": "display_data"
    },
    {
     "data": {
      "image/png": "[encoded data removed]",
      "text/plain": [
       "<matplotlib.figure.Figure at 0x1073577d0>"
      ]
     },
     "metadata": {},
     "output_type": "display_data"
    }
   ],
   "source": [
    "print p.cross_val_score(X, y)\n",
    "p.plot(training_set[['Account.Balance', 'Purpose']].values, y)\n",
    "p.plot_errors()"
   ]
  },
  {
   "cell_type": "markdown",
   "metadata": {
    "collapsed": false,
    "scrolled": false
   },
   "source": [
    "### Try the XOR Problem"
   ]
  },
  {
   "cell_type": "code",
   "execution_count": 26,
   "metadata": {
    "collapsed": false
   },
   "outputs": [
    {
     "name": "stdout",
     "output_type": "stream",
     "text": [
      "('Prediction: ', array([1, 1, 0, 0]))\n",
      "Cross validation: \n",
      "[[ 0.5  0.5]\n",
      " [ 0.5  0.5]]\n"
     ]
    },
    {
     "data": {
      "image/png": "[encoded data removed]",
      "text/plain": [
       "<matplotlib.figure.Figure at 0x106e95610>"
      ]
     },
     "metadata": {},
     "output_type": "display_data"
    }
   ],
   "source": [
    "# XOR problem\n",
    "\n",
    "data_set = numpy.array([\n",
    "    [0, 0, 0],\n",
    "    [0, 1, 1],\n",
    "    [1, 0, 1],\n",
    "    [1, 1, 0]\n",
    "])\n",
    "\n",
    "p = Perceptron(0.01, 10)\n",
    "p.fit(data_set[:, :2], data_set[:, 2])\n",
    "print ('Prediction: ', p.predict(data_set[:, :2]))\n",
    "print ('Cross validation: ')\n",
    "print p.cross_val_score(data_set[:, :2], data_set[:, 2])\n",
    "p.plot(data_set[:, :2], data_set[:, 2], axis_labels=['x1', 'x2'])"
   ]
  },
  {
   "cell_type": "code",
   "execution_count": 27,
   "metadata": {
    "collapsed": false
   },
   "outputs": [
    {
     "name": "stdout",
     "output_type": "stream",
     "text": [
      "('Prediction: ', array([0, 1, 1, 0]))\n",
      "Cross validation: \n",
      "[[ 1.  0.]\n",
      " [ 0.  1.]]\n"
     ]
    },
    {
     "data": {
      "image/png": "[encoded data removed]",
      "text/plain": [
       "<matplotlib.figure.Figure at 0x10765cb50>"
      ]
     },
     "metadata": {},
     "output_type": "display_data"
    },
    {
     "data": {
      "text/plain": [
       "array(0)"
      ]
     },
     "execution_count": 27,
     "metadata": {},
     "output_type": "execute_result"
    }
   ],
   "source": [
    "# XOR problem solved with a single layer perceptron\n",
    "\n",
    "data_set = numpy.array([\n",
    "    # index, (x1+x2)^2, output\n",
    "    [0, 0, 0],\n",
    "    [1, 1, 1],\n",
    "    [2, 1, 1],\n",
    "    [3, 4, 0]\n",
    "])\n",
    "\n",
    "p = Perceptron(0.001, 1000)\n",
    "p.fit(data_set[:, :2], data_set[:, 2])\n",
    "print ('Prediction: ', p.predict(data_set[:, :2]))\n",
    "print ('Cross validation: ')\n",
    "print p.cross_val_score(data_set[:, :2], data_set[:, 2])\n",
    "p.plot(data_set[:, [0,1]], data_set[:, 2], axis_labels=['x1', 'x2'])\n",
    "p.predict([3,4])"
   ]
  },
  {
   "cell_type": "markdown",
   "metadata": {},
   "source": [
    "## Further Readings\n",
    "\n",
    "### General Introduction\n",
    "![The Master Algorithm](http://t2.gstatic.com/images?q=tbn:ANd9GcTvctDHIzSuyffTPDOL22iOH_p9JJRTUBNy6eT8qKsC9Z6Gx7pp)\n",
    "\n",
    "### Theoretical Background\n",
    "![Rojas](http://dcis.inf.fu-berlin.de/rojas/wp-content/uploads/2015/07/raul_rojas-512x372.jpg)\n",
    "[Neural Networks: A Systematic Introduction by Rojas, Free book](https://page.mi.fu-berlin.de/rojas/neural/neuron.pdf)\n",
    "\n",
    "![Neural Networks & Learning Machines 3rd Edition by Simon Haykin](http://ecx.images-amazon.com/images/I/51b1PWBu6uL._SY344_BO1,204,203,200_.jpg)\n",
    "[Neural Networks & Learning Machines 3rd Edition by Simon Haykin](http://www.powells.com/book/neural-networks-learning-machines-3rd-edition-9780131471399/72-0)\n",
    "### Machine Learning and Python\n",
    "![Machine Learning: An Algorithmic Perspective by Stephen Marsland](http://ecx.images-amazon.com/images/I/41xC5yM5FLL._SY344_BO1,204,203,200_.jpg)\n",
    "[Machine Learning: An Algorithmic Perspective by Stephen Marsland](http://www.powells.com/book/machine-learning-9781420067187/1-1)\n",
    "![Python Machine Learning by Sebastian Raschka](http://ecx.images-amazon.com/images/I/51KGnFRB-zL._SX258_BO1,204,203,200_.jpg)\n",
    "[Python Machine Learning by Sebastian Raschka](http://www.powells.com/book/python-machine-learning-9781783555130/61-0)\n"
   ]
  },
  {
   "cell_type": "code",
   "execution_count": null,
   "metadata": {
    "collapsed": true
   },
   "outputs": [],
   "source": []
  }
 ],
 "metadata": {
  "kernelspec": {
   "display_name": "Python 2",
   "language": "python",
   "name": "python2"
  },
  "language_info": {
   "codemirror_mode": {
    "name": "ipython",
    "version": 2
   },
   "file_extension": ".py",
   "mimetype": "text/x-python",
   "name": "python",
   "nbconvert_exporter": "python",
   "pygments_lexer": "ipython2",
   "version": "2.7.11"
  }
 },
 "nbformat": 4,
 "nbformat_minor": 0
}
